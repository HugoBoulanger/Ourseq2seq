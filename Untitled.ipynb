{
 "cells": [
  {
   "cell_type": "code",
   "execution_count": 1,
   "metadata": {},
   "outputs": [],
   "source": [
    "import os, sys\n",
    "import torch\n",
    "import numpy as np\n",
    "\n",
    "os.chdir('/home/hugal/AIC/WIA/Ourseq2seq/')\n",
    "import seq2seq\n",
    "import pickle"
   ]
  },
  {
   "cell_type": "markdown",
   "metadata": {},
   "source": [
    "# Dataset loading"
   ]
  },
  {
   "cell_type": "code",
   "execution_count": 2,
   "metadata": {},
   "outputs": [],
   "source": [
    "test_src = open('/home/hugal/AIC/WIA/writingPrompts/test.wp_source', 'r')\n",
    "test_tgt = open('/home/hugal/AIC/WIA/writingPrompts/test.wp_target', 'r')\n",
    "\n",
    "tst_src = test_src.readlines()\n",
    "tst_tgt = test_tgt.readlines()\n",
    "\n",
    "test_src.close()\n",
    "test_tgt.close()"
   ]
  },
  {
   "cell_type": "code",
   "execution_count": 3,
   "metadata": {},
   "outputs": [],
   "source": [
    "train_src = open('/home/hugal/AIC/WIA/writingPrompts/train.wp_source', 'r')\n",
    "train_tgt = open('/home/hugal/AIC/WIA/writingPrompts/train.wp_target', 'r')\n",
    "\n",
    "\n",
    "trn_src = []\n",
    "\n",
    "i = 0\n",
    "for l in train_src:\n",
    "    trn_src.append(l)\n",
    "    i+=1\n",
    "    if i >= 50000:\n",
    "        break\n",
    "\n",
    "train_src.close()\n",
    "\n",
    "\n",
    "\n",
    "trn_tgt = []\n",
    "train_tgt = open('/home/hugal/AIC/WIA/writingPrompts/train.wp_target', 'r')\n",
    "i = 0\n",
    "for l in train_tgt:\n",
    "    trn_tgt.append(l)\n",
    "    i+=1\n",
    "    if i >= 50000:\n",
    "        break\n",
    "\n",
    "train_tgt.close()"
   ]
  },
  {
   "cell_type": "code",
   "execution_count": 4,
   "metadata": {},
   "outputs": [],
   "source": [
    "for i in range(len(tst_src)):\n",
    "    tst_src[i] = tst_src[i].split()[3:]\n",
    "    tst_tgt[i] = tst_tgt[i].split()[3:]"
   ]
  },
  {
   "cell_type": "code",
   "execution_count": 5,
   "metadata": {},
   "outputs": [],
   "source": [
    "for i in range(len(trn_src)):\n",
    "    trn_src[i] = trn_src[i].split()[3:]\n",
    "    trn_tgt[i] = trn_tgt[i].split()[3:]"
   ]
  },
  {
   "cell_type": "markdown",
   "metadata": {},
   "source": [
    "# Utility functions for vocabulary"
   ]
  },
  {
   "cell_type": "code",
   "execution_count": 44,
   "metadata": {},
   "outputs": [],
   "source": [
    "def voc(data):\n",
    "    dict = {}\n",
    "    count = {}\n",
    "    for l in data:\n",
    "        for w in l:\n",
    "            if w not in dict.keys():\n",
    "                dict[w] = len(dict)\n",
    "                count[w] = 1\n",
    "            else:\n",
    "                count[w] += 1\n",
    "    return dict, count\n",
    "\n",
    "def clean_voc(vocab, count, t):\n",
    "    for w in count.keys():\n",
    "        if count[w] < t:\n",
    "            del vocab[w]\n",
    "    dic = {}\n",
    "    for w in vocab.keys():\n",
    "        dic[w] = len(dic)\n",
    "    return dic\n",
    "\n",
    "def convert(data, vocab, unk):\n",
    "    d = []\n",
    "    for l in data:\n",
    "        c = []\n",
    "        for w in l:\n",
    "            if w in vocab.keys():\n",
    "                c.append(vocab[w])\n",
    "            else:\n",
    "                c.append(vocab[unk])\n",
    "        c.reverse()\n",
    "        d.append(c)\n",
    "    return d\n",
    "\n",
    "def padding(data_c, eos, pad, ma):\n",
    "    l = [len(e) for e in data_c]\n",
    "    nl = []\n",
    "    data = []\n",
    "    m = min(np.amax(l), ma)\n",
    "    for i in range(len(l)):\n",
    "        if l[i] >= m:\n",
    "            l[i] = m\n",
    "            data_c[i] = data_c[i][:(m-1)]\n",
    "            data_c[i].append(eos)\n",
    "        else:\n",
    "            data_c[i].append(eos)\n",
    "            l[i] += 1\n",
    "            for j in range(m-l[i]):\n",
    "                data_c[i].append(pad)\n",
    "    return l, data_c"
   ]
  },
  {
   "cell_type": "markdown",
   "metadata": {},
   "source": [
    "# Vocab creation"
   ]
  },
  {
   "cell_type": "code",
   "execution_count": 45,
   "metadata": {},
   "outputs": [],
   "source": [
    "unk = '<unk>'\n",
    "pad = '<pad>'\n",
    "sos = '<sos>'\n",
    "eos = '<eos>'"
   ]
  },
  {
   "cell_type": "code",
   "execution_count": 46,
   "metadata": {},
   "outputs": [],
   "source": [
    "vocab, count = voc(trn_src + trn_tgt)\n",
    "unk = '<unk>'\n",
    "vocab[unk] = len(vocab)\n",
    "vocab = clean_voc(vocab, count, 5)\n",
    "\n",
    "pad = '<pad>'\n",
    "sos = '<sos>'\n",
    "eos = '<eos>'\n",
    "vocab[pad] = len(vocab)\n",
    "vocab[sos] = len(vocab)\n",
    "vocab[eos] = len(vocab)\n",
    "\n",
    "\n",
    "pickle.dump(vocab, open('vocab.pkl', 'wb'))\n"
   ]
  },
  {
   "cell_type": "code",
   "execution_count": 9,
   "metadata": {},
   "outputs": [],
   "source": [
    "vocab = pickle.load(open('vocab.pkl', 'rb'))"
   ]
  },
  {
   "cell_type": "code",
   "execution_count": 47,
   "metadata": {},
   "outputs": [
    {
     "name": "stdout",
     "output_type": "stream",
     "text": [
      "71461\n"
     ]
    }
   ],
   "source": [
    "print(len(vocab))"
   ]
  },
  {
   "cell_type": "code",
   "execution_count": 48,
   "metadata": {},
   "outputs": [],
   "source": [
    "tgt_max = 300"
   ]
  },
  {
   "cell_type": "code",
   "execution_count": 57,
   "metadata": {},
   "outputs": [],
   "source": [
    "tst_src_c = convert(tst_src, vocab, unk)\n",
    "tst_tgt_c = convert(tst_tgt, vocab, unk)\n",
    "\n",
    "tst_tgt_c[:].insert(0, vocab[sos])\n",
    "tst_tgt_c[:].append(vocab[eos])\n",
    "\n",
    "l_tst_src, tst_src_p = padding(tst_src_c, vocab[eos], vocab[pad], tgt_max)\n",
    "l_tst_tgt, tst_tgt_p = padding(tst_tgt_c, vocab[eos], vocab[pad], tgt_max)\n",
    "\n",
    "z = list(zip(l_tst_src, tst_src_p, l_tst_tgt, tst_tgt_p))\n",
    "z.sort(reverse=True)\n",
    "l_tst_src, tst_src_p, l_tst_tgt, tst_tgt_p = zip(*z)"
   ]
  },
  {
   "cell_type": "code",
   "execution_count": 58,
   "metadata": {},
   "outputs": [],
   "source": [
    "pickle.dump(l_tst_src, open('l_tst_src.pkl', 'wb'))\n",
    "\n",
    "pickle.dump(tst_src_p, open('tst_src_p.pkl', 'wb'))\n",
    "\n",
    "pickle.dump(l_tst_tgt, open('l_tst_tgt.pkl', 'wb'))\n",
    "\n",
    "pickle.dump(tst_tgt_p, open('tst_tgt_p.pkl', 'wb'))"
   ]
  },
  {
   "cell_type": "code",
   "execution_count": null,
   "metadata": {},
   "outputs": [],
   "source": [
    "l_tst_src = pickle.load(open('l_tst_src.pkl', 'rb'))\n",
    "\n",
    "tst_src_p = pickle.load(open('tst_src_p.pkl', 'rb'))\n",
    "\n",
    "l_tst_tgt = pickle.load(open('l_tst_tgt.pkl', 'rb'))\n",
    "\n",
    "tst_tgt_p = pickle.load(open('tst_tgt_p.pkl', 'rb'))"
   ]
  },
  {
   "cell_type": "code",
   "execution_count": 51,
   "metadata": {},
   "outputs": [],
   "source": [
    "trn_src_c = convert(trn_src, vocab, unk)\n",
    "trn_tgt_c = convert(trn_tgt, vocab, unk)\n",
    "\n",
    "trn_tgt_c[:].insert(0, vocab[sos])\n",
    "trn_tgt_c[:].append(vocab[eos])\n",
    "\n",
    "l_trn_src, trn_src_p = padding(trn_src_c, vocab[eos], vocab[pad], tgt_max)\n",
    "l_trn_tgt, trn_tgt_p = padding(trn_tgt_c, vocab[eos], vocab[pad], tgt_max)\n",
    "\n",
    "z = list(zip(l_trn_src, trn_src_p, l_trn_tgt, trn_tgt_p))\n",
    "z.sort(reverse=True)\n",
    "l_trn_src, trn_src_p, l_trn_tgt, trn_tgt_p = zip(*z)"
   ]
  },
  {
   "cell_type": "code",
   "execution_count": 52,
   "metadata": {},
   "outputs": [],
   "source": [
    "pickle.dump(l_trn_src, open('l_trn_src.pkl', 'wb'))\n",
    "pickle.dump(trn_src_p, open('trn_src_p.pkl', 'wb'))\n",
    "pickle.dump(l_trn_tgt, open('l_trn_tgt.pkl', 'wb'))\n",
    "pickle.dump(trn_tgt_p, open('trn_tgt_p.pkl', 'wb'))"
   ]
  },
  {
   "cell_type": "code",
   "execution_count": null,
   "metadata": {},
   "outputs": [],
   "source": [
    "l_trn_src = pickle.load(open('l_trn_src.pkl', 'rb'))\n",
    "trn_src_p = pickle.load(open('trn_src_p.pkl', 'rb'))\n",
    "l_trn_tgt = pickle.load(open('l_trn_tgt.pkl', 'rb'))\n",
    "trn_tgt_p = pickle.load(open('trn_tgt_p.pkl', 'rb'))"
   ]
  },
  {
   "cell_type": "code",
   "execution_count": 53,
   "metadata": {},
   "outputs": [
    {
     "name": "stdout",
     "output_type": "stream",
     "text": [
      "(73, 73, 73, 73, 73, 73, 73, 72, 72, 72)\n",
      "73\n"
     ]
    }
   ],
   "source": [
    "print(l_tst_src[:10])\n",
    "print(len(tst_src_p[3]))"
   ]
  },
  {
   "cell_type": "code",
   "execution_count": 54,
   "metadata": {},
   "outputs": [],
   "source": [
    "tst_src_t = torch.LongTensor(tst_src_p)\n",
    "tst_tgt_t = torch.LongTensor(tst_tgt_p)"
   ]
  },
  {
   "cell_type": "code",
   "execution_count": 55,
   "metadata": {},
   "outputs": [],
   "source": [
    "trn_src_t = torch.LongTensor(trn_src_p)\n",
    "trn_tgt_t = torch.LongTensor(trn_tgt_p)"
   ]
  },
  {
   "cell_type": "code",
   "execution_count": 56,
   "metadata": {},
   "outputs": [
    {
     "name": "stdout",
     "output_type": "stream",
     "text": [
      "torch.Size([50000, 300])\n"
     ]
    }
   ],
   "source": [
    "print(trn_tgt_t.shape)"
   ]
  },
  {
   "cell_type": "code",
   "execution_count": null,
   "metadata": {},
   "outputs": [],
   "source": [
    "enc = seq2seq.Encoder(len(vocab), 150, 200, 4, 'cuda', vocab[pad])\n",
    "dec = seq2seq.Decoder(len(vocab), 150, 200, 4, 'cuda', vocab[pad], vocab[sos], vocab[eos])\n",
    "enc.to('cuda')\n",
    "dec.to('cuda')\n",
    "opt_enc = torch.optim.Adam(enc.parameters())\n",
    "opt_dec = torch.optim.Adam(dec.parameters())"
   ]
  },
  {
   "cell_type": "code",
   "execution_count": null,
   "metadata": {},
   "outputs": [],
   "source": [
    "epochs = 50\n",
    "batch_size = 4\n",
    "n_batch = len(trn_src_p)//batch_size"
   ]
  },
  {
   "cell_type": "code",
   "execution_count": null,
   "metadata": {},
   "outputs": [],
   "source": [
    "for e in range(epochs):\n",
    "    enc.train()\n",
    "    dec.train()\n",
    "    epoch_loss = 0\n",
    "    for i in range(n_batch):\n",
    "        opt_enc.zero_grad()\n",
    "        opt_dec.zero_grad()\n",
    "        \n",
    "        lengths = torch.LongTensor(l_trn_src[batch_size*i:batch_size*(i+1)])\n",
    "        out, h_n = enc(trn_src_t[batch_size*i:batch_size*(i+1)], lengths)\n",
    "        output = dec.teacher_force(trn_tgt_t[batch_size*i:batch_size*(i+1)].reshape([batch_size, tgt_max, 1]), h_n, torch.LongTensor(l_trn_tgt[batch_size*i:batch_size*(i+1)]))\n",
    "        loss = 0\n",
    "        for o, l, t in zip(output, l_trn_tgt[batch_size*i:batch_size*(i+1)], trn_tgt_t[batch_size*i:batch_size*(i+1)]):\n",
    "            loss += torch.nn.functional.cross_entropy(o[:(l-1)], t[1:l].to('cuda'))/l\n",
    "        loss.backward()\n",
    "        epoch_loss += loss.item()\n",
    "        print(f'Batch loss : {loss.item()}')\n",
    "        trn_src_t.detach()\n",
    "        trn_tgt_t.detach()\n",
    "        opt_dec.step()\n",
    "        opt_enc.step()\n",
    "    \n",
    "    print(f'Epoch training loss : {epoch_loss / (batch_size*n_batch)}')\n",
    "    \n",
    "    enc.eval()\n",
    "    dec.eval()\n",
    "    test_loss = 0\n",
    "    for i in range(len(tst_tgt_t)//batch_size):\n",
    "        lengths = torch.LongTensor(l_tst_src[batch_size*i:batch_size*(i+1)])\n",
    "        out, h_n = enc(tst_src_t[batch_size*i:batch_size*(i+1)], lengths)\n",
    "        output = dec.teacher_force(tst_tgt_t[batch_size*i:batch_size*(i+1)].reshape([batch_size, tgt_max, 1]), h_n, torch.LongTensor(l_tst_tgt[batch_size*i:batch_size*(i+1)]))\n",
    "        for o, l, t in zip(output, l_tst_tgt[batch_size*i:batch_size*(i+1)], tst_tgt_t[batch_size*i:batch_size*(i+1)]):\n",
    "            test_loss += torch.nn.functional.cross_entropy(o[:(l-1)], t[1:l].to('cuda'))/l\n",
    "        tst_src_t.detach()\n",
    "        tst_tgt_t.detach()\n",
    "        \n",
    "    print(f'Test loss : {test_loss.item()/(len(tst_tgt_t)//batch_size)}')\n",
    "    if e%5 == 0:\n",
    "        torch.save(enc.state_dict(), 'encoder_{e}.pkl')\n",
    "        torch.save(dec.state_dict(), 'decoder_{e}.pkl')"
   ]
  },
  {
   "cell_type": "code",
   "execution_count": null,
   "metadata": {},
   "outputs": [],
   "source": []
  },
  {
   "cell_type": "code",
   "execution_count": null,
   "metadata": {},
   "outputs": [],
   "source": []
  },
  {
   "cell_type": "code",
   "execution_count": null,
   "metadata": {},
   "outputs": [],
   "source": [
    "torch.save(enc.state_dict(), 'encoder.pkl')\n",
    "torch.save(dec.state_dict(), 'decoder.pkl')"
   ]
  }
 ],
 "metadata": {
  "kernelspec": {
   "display_name": "Python 3",
   "language": "python",
   "name": "python3"
  },
  "language_info": {
   "codemirror_mode": {
    "name": "ipython",
    "version": 3
   },
   "file_extension": ".py",
   "mimetype": "text/x-python",
   "name": "python",
   "nbconvert_exporter": "python",
   "pygments_lexer": "ipython3",
   "version": "3.6.7"
  }
 },
 "nbformat": 4,
 "nbformat_minor": 2
}
