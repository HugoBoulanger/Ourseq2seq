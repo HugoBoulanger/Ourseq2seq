{
 "cells": [
  {
   "cell_type": "code",
   "execution_count": 37,
   "metadata": {
    "collapsed": true
   },
   "outputs": [],
   "source": [
    "import os, sys\n",
    "\n",
    "import torch\n",
    "import spacy\n",
    "import numpy as np\n",
    "\n",
    "nlp = spacy.load('en_core_web_sm')"
   ]
  },
  {
   "cell_type": "code",
   "execution_count": 38,
   "metadata": {},
   "outputs": [],
   "source": [
    "os.chdir('/home/hugal/AIC/WIA/Ourseq2seq/')\n",
    "import seq2seq"
   ]
  },
  {
   "cell_type": "markdown",
   "metadata": {},
   "source": [
    "#Loading the dataset"
   ]
  },
  {
   "cell_type": "code",
   "execution_count": 39,
   "metadata": {},
   "outputs": [],
   "source": [
    "\n",
    "test_src = open('/home/hugal/AIC/WIA/writingPrompts/test.wp_source', 'r')\n",
    "test_tgt = open('/home/hugal/AIC/WIA/writingPrompts/test.wp_target', 'r')\n",
    "\n",
    "tst_src = test_src.readlines()\n",
    "tst_tgt = test_tgt.readlines()\n",
    "\n",
    "test_src.close()\n",
    "test_tgt.close()"
   ]
  },
  {
   "cell_type": "code",
   "execution_count": 40,
   "metadata": {},
   "outputs": [
    {
     "name": "stdout",
     "output_type": "stream",
     "text": [
      "15138\n15138\n"
     ]
    }
   ],
   "source": [
    "print(len(tst_src))\n",
    "print(len(tst_tgt))"
   ]
  },
  {
   "cell_type": "code",
   "execution_count": 41,
   "metadata": {},
   "outputs": [],
   "source": [
    "for i in range(len(tst_src)):\n",
    "    tst_src[i] = tst_src[i].split()[3:]\n",
    "    tst_tgt[i] = tst_tgt[i].split()[3:]"
   ]
  },
  {
   "cell_type": "code",
   "execution_count": 42,
   "metadata": {},
   "outputs": [],
   "source": [
    "def voc(data):\n",
    "    dict = {}\n",
    "    for l in data:\n",
    "        for w in l:\n",
    "            if w not in dict.keys():\n",
    "                dict[w] = len(dict)\n",
    "    return dict\n",
    "\n",
    "def convert(data, vocab):\n",
    "    d = []\n",
    "    for l in data:\n",
    "        c = []\n",
    "        for w in l:\n",
    "            c.append(vocab[w])\n",
    "        c.reverse()\n",
    "        d.append(c)\n",
    "    return d\n",
    "\n",
    "def padding(data_c, pad, ma):\n",
    "    l = [len(e) for e in data_c]\n",
    "    m = min(np.amax(l), ma)\n",
    "    print(m)\n",
    "    for i in range(len(l)):\n",
    "        if l[i] > m:\n",
    "            l[i] = m\n",
    "            data_c[i] = data_c[i][:m]\n",
    "        else:\n",
    "            for j in range(m-l[i]):\n",
    "                data_c[i].append(pad)\n",
    "    z = list(zip(l, data_c))\n",
    "    z.sort(reverse=True)\n",
    "    l, data_c = zip(*z)\n",
    "    return l, data_c\n",
    "    "
   ]
  },
  {
   "cell_type": "code",
   "execution_count": 7,
   "metadata": {},
   "outputs": [],
   "source": [
    ""
   ]
  },
  {
   "cell_type": "code",
   "execution_count": 43,
   "metadata": {},
   "outputs": [
    {
     "name": "stdout",
     "output_type": "stream",
     "text": [
      "72\n"
     ]
    },
    {
     "name": "stdout",
     "output_type": "stream",
     "text": [
      "1000\n"
     ]
    }
   ],
   "source": [
    "vocab = voc(tst_src + tst_tgt)\n",
    "\n",
    "tst_src_c = convert(tst_src, vocab)\n",
    "tst_tgt_c = convert(tst_tgt, vocab)\n",
    "\n",
    "pad = '<pad>'\n",
    "sos = '<sos>'\n",
    "eos = '<eos>'\n",
    "vocab[pad] = len(vocab)\n",
    "vocab[sos] = len(vocab)\n",
    "vocab[eos] = len(vocab)\n",
    "tst_tgt_c[:].insert(0, vocab[sos])\n",
    "tst_tgt_c[:].append(vocab[eos])\n",
    "l_src, tst_src_p = padding(tst_src_c, vocab[pad], 1000)\n",
    "l_tgt, tst_tgt_p = padding(tst_tgt_c, vocab[pad], 1000)\n",
    "tst_src_t = torch.LongTensor(tst_src_p)\n",
    "tst_tgt_t = torch.LongTensor(tst_tgt_p)"
   ]
  },
  {
   "cell_type": "code",
   "execution_count": 44,
   "metadata": {},
   "outputs": [
    {
     "name": "stdout",
     "output_type": "stream",
     "text": [
      "([22, 629, 333, 5, 287, 474, 83, 82, 688, 962, 85, 191, 390, 403, 312, 399, 1808, 22, 82, 141, 8, 838, 797, 895, 424, 59, 4029, 421, 2, 609, 6999, 3, 73, 170, 107, 311, 797, 403, 73, 240, 226, 403, 82, 312, 539, 103, 5282, 17, 8352, 358, 59, 4389, 3, 191, 2933, 333, 141, 17, 341, 93, 5, 2703, 37, 191, 459, 1206, 118, 107, 227, 226, 2670, 103], [111, 1163, 421, 3694, 494, 3087, 474, 59, 3038, 20, 3, 502, 425, 1283, 343, 22, 1441, 93, 550, 494, 3087, 474, 59, 3038, 865, 3, 502, 367, 155, 22, 4121, 48, 3552, 160, 1453, 5, 121, 357, 59, 72, 686, 2, 479, 22, 1630, 3, 341, 8, 59, 8296, 59, 672, 59, 4417, 59, 2655, 59, 1172, 59, 4243, 22, 72, 37, 2, 10025, 5, 3428, 1220, 320, 1195, 143094, 143094], [226, 1477, 100, 710, 411, 22, 4456, 5914, 5538, 2, 1865, 37, 19, 2199, 3, 5913, 396, 59, 967, 396, 123, 22, 3364, 5912, 2934, 1965, 3, 61, 5050, 10, 28, 2203, 23, 22, 2603, 37, 216, 609, 5911, 2132, 5910, 23, 22, 5909, 5908, 5907, 3, 17, 520, 5906, 37, 19, 4395, 650, 515, 5905, 3, 2888, 23, 22, 2649, 1344, 3, 191, 1454, 5904, 5903, 65, 143094, 143094, 143094, 143094], [226, 1477, 100, 710, 411, 22, 4456, 5914, 5538, 2, 1865, 37, 19, 2199, 3, 5913, 396, 59, 967, 396, 123, 22, 3364, 5912, 2934, 1965, 3, 61, 5050, 10, 28, 2203, 23, 22, 2603, 37, 216, 609, 5911, 2132, 5910, 23, 22, 5909, 5908, 5907, 3, 17, 520, 5906, 37, 19, 4395, 650, 515, 5905, 3, 2888, 23, 22, 2649, 1344, 3, 191, 1454, 5904, 5903, 65, 143094, 143094, 143094, 143094], [226, 1477, 100, 710, 411, 22, 4456, 5914, 5538, 2, 1865, 37, 19, 2199, 3, 5913, 396, 59, 967, 396, 123, 22, 3364, 5912, 2934, 1965, 3, 61, 5050, 10, 28, 2203, 23, 22, 2603, 37, 216, 609, 5911, 2132, 5910, 23, 22, 5909, 5908, 5907, 3, 17, 520, 5906, 37, 19, 4395, 650, 515, 5905, 3, 2888, 23, 22, 2649, 1344, 3, 191, 1454, 5904, 5903, 65, 143094, 143094, 143094, 143094])\n(72, 70, 68, 68, 68)\n"
     ]
    }
   ],
   "source": [
    "print(tst_src_p[:5])\n",
    "print(l_src[:5])"
   ]
  },
  {
   "cell_type": "markdown",
   "metadata": {},
   "source": [
    "# Training"
   ]
  },
  {
   "cell_type": "code",
   "execution_count": 45,
   "metadata": {},
   "outputs": [],
   "source": [
    "enc = seq2seq.Encoder(len(vocab), 20, 50, 1, 'cuda', vocab[pad])\n",
    "dec = seq2seq.Decoder(len(vocab), 20, 50, 1, 'cuda', vocab[pad],vocab[sos], vocab[eos])"
   ]
  },
  {
   "cell_type": "code",
   "execution_count": 46,
   "metadata": {},
   "outputs": [],
   "source": [
    "enc.to('cuda')\n",
    "dec.to('cuda')\n",
    "opt_enc = torch.optim.SparseAdam(enc.parameters())\n",
    "opt_dec = torch.optim.SparseAdam(dec.parameters())"
   ]
  },
  {
   "cell_type": "code",
   "execution_count": 47,
   "metadata": {},
   "outputs": [],
   "source": [
    "out, h_n = enc(tst_src_t[:4], torch.LongTensor(l_src[:4]))\n",
    "output, h = dec(tst)"
   ]
  },
  {
   "cell_type": "code",
   "execution_count": 48,
   "metadata": {},
   "outputs": [
    {
     "data": {
      "text/plain": [
       "PackedSequence(data=tensor([[-0.1996, -0.0966,  0.1830,  ...,  0.1054, -0.0640, -0.1072],\n        [ 0.1853,  0.0122, -0.2204,  ..., -0.1052,  0.0139,  0.0234],\n        [-0.3172, -0.3463, -0.0004,  ..., -0.0717, -0.1594, -0.3158],\n        ...,\n        [ 0.0381,  0.0776,  0.1953,  ...,  0.2030, -0.1006, -0.0111],\n        [ 0.1823,  0.0701, -0.0473,  ..., -0.0498, -0.1219, -0.2254],\n        [ 0.0015, -0.0931,  0.1120,  ...,  0.1557, -0.2391, -0.2401]],\n       device='cuda:0', grad_fn=<CudnnRnnBackward>), batch_sizes=tensor([4, 4, 4, 4, 4, 4, 4, 4, 4, 4, 4, 4, 4, 4, 4, 4, 4, 4, 4, 4, 4, 4, 4, 4,\n        4, 4, 4, 4, 4, 4, 4, 4, 4, 4, 4, 4, 4, 4, 4, 4, 4, 4, 4, 4, 4, 4, 4, 4,\n        4, 4, 4, 4, 4, 4, 4, 4, 4, 4, 4, 4, 4, 4, 4, 4, 4, 4, 4, 4, 2, 2, 1, 1],\n       grad_fn=<PackPaddedBackward>))"
      ]
     },
     "execution_count": 48,
     "metadata": {},
     "output_type": "execute_result"
    }
   ],
   "source": [
    "out"
   ]
  },
  {
   "cell_type": "markdown",
   "metadata": {},
   "source": [
    "#Saving weights"
   ]
  },
  {
   "cell_type": "markdown",
   "metadata": {},
   "source": [
    "#Generating"
   ]
  },
  {
   "cell_type": "markdown",
   "metadata": {},
   "source": [
    "#Saving generated examples"
   ]
  }
 ],
 "metadata": {
  "kernelspec": {
   "display_name": "Python 2",
   "language": "python",
   "name": "python2"
  },
  "language_info": {
   "codemirror_mode": {
    "name": "ipython",
    "version": 2
   },
   "file_extension": ".py",
   "mimetype": "text/x-python",
   "name": "python",
   "nbconvert_exporter": "python",
   "pygments_lexer": "ipython2",
   "version": "2.7.6"
  }
 },
 "nbformat": 4,
 "nbformat_minor": 0
}
