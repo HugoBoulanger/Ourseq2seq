{
 "cells": [
  {
   "cell_type": "code",
   "execution_count": 1,
   "metadata": {},
   "outputs": [],
   "source": [
    "import os, sys\n",
    "\n",
    "import torch\n",
    "import numpy as np\n"
   ]
  },
  {
   "cell_type": "code",
   "execution_count": 2,
   "metadata": {},
   "outputs": [],
   "source": [
    "os.chdir('/home/hugal/AIC/WIA/Ourseq2seq/')\n",
    "import seq2seq"
   ]
  },
  {
   "cell_type": "markdown",
   "metadata": {},
   "source": [
    "#Loading the dataset"
   ]
  },
  {
   "cell_type": "code",
   "execution_count": 3,
   "metadata": {},
   "outputs": [],
   "source": [
    "\n",
    "test_src = open('/home/hugal/AIC/WIA/writingPrompts/test.wp_source', 'r')\n",
    "test_tgt = open('/home/hugal/AIC/WIA/writingPrompts/test.wp_target', 'r')\n",
    "\n",
    "tst_src = test_src.readlines()\n",
    "tst_tgt = test_tgt.readlines()\n",
    "\n",
    "test_src.close()\n",
    "test_tgt.close()"
   ]
  },
  {
   "cell_type": "code",
   "execution_count": 4,
   "metadata": {},
   "outputs": [
    {
     "name": "stdout",
     "output_type": "stream",
     "text": [
      "15138\n",
      "15138\n"
     ]
    }
   ],
   "source": [
    "print(len(tst_src))\n",
    "print(len(tst_tgt))"
   ]
  },
  {
   "cell_type": "code",
   "execution_count": 5,
   "metadata": {},
   "outputs": [],
   "source": [
    "for i in range(len(tst_src)):\n",
    "    tst_src[i] = tst_src[i].split()[3:]\n",
    "    tst_tgt[i] = tst_tgt[i].split()[3:]"
   ]
  },
  {
   "cell_type": "code",
   "execution_count": 6,
   "metadata": {},
   "outputs": [],
   "source": [
    "def voc(data):\n",
    "    dict = {}\n",
    "    for l in data:\n",
    "        for w in l:\n",
    "            if w not in dict.keys():\n",
    "                dict[w] = len(dict)\n",
    "    return dict\n",
    "\n",
    "def convert(data, vocab):\n",
    "    d = []\n",
    "    for l in data:\n",
    "        c = []\n",
    "        for w in l:\n",
    "            c.append(vocab[w])\n",
    "        c.reverse()\n",
    "        d.append(c)\n",
    "    return d\n",
    "\n",
    "def padding(data_c, pad, ma):\n",
    "    l = [len(e) for e in data_c]\n",
    "    m = min(np.amax(l), ma)\n",
    "    print(m)\n",
    "    for i in range(len(l)):\n",
    "        if l[i] > m:\n",
    "            l[i] = m\n",
    "            data_c[i] = data_c[i][:m]\n",
    "        else:\n",
    "            for j in range(m-l[i]):\n",
    "                data_c[i].append(pad)\n",
    "    return l, data_c\n",
    "    "
   ]
  },
  {
   "cell_type": "code",
   "execution_count": 7,
   "metadata": {},
   "outputs": [
    {
     "name": "stdout",
     "output_type": "stream",
     "text": [
      "72\n",
      "1000\n"
     ]
    }
   ],
   "source": [
    "vocab = voc(tst_src + tst_tgt)\n",
    "\n",
    "tst_src_c = convert(tst_src, vocab)\n",
    "tst_tgt_c = convert(tst_tgt, vocab)\n",
    "\n",
    "pad = '<pad>'\n",
    "sos = '<sos>'\n",
    "eos = '<eos>'\n",
    "vocab[pad] = len(vocab)\n",
    "vocab[sos] = len(vocab)\n",
    "vocab[eos] = len(vocab)\n",
    "tst_tgt_c[:].insert(0, vocab[sos])\n",
    "tst_tgt_c[:].append(vocab[eos])\n",
    "l_src, tst_src_p = padding(tst_src_c, vocab[pad], 1000)\n",
    "l_tgt, tst_tgt_p = padding(tst_tgt_c, vocab[pad], 1000)\n",
    "\n",
    "z = list(zip(l_src, tst_src_p, l_tgt, tst_tgt_p))\n",
    "z.sort(reverse=True)\n",
    "l_src, tst_src_p, l_tgt, tst_tgt_p = zip(*z)\n",
    "\n",
    "tst_src_t = torch.LongTensor(tst_src_p)\n",
    "tst_tgt_t = torch.LongTensor(tst_tgt_p)"
   ]
  },
  {
   "cell_type": "code",
   "execution_count": 8,
   "metadata": {},
   "outputs": [
    {
     "name": "stdout",
     "output_type": "stream",
     "text": [
      "143097\n"
     ]
    }
   ],
   "source": [
    "print(len(vocab))"
   ]
  },
  {
   "cell_type": "code",
   "execution_count": 9,
   "metadata": {},
   "outputs": [
    {
     "name": "stdout",
     "output_type": "stream",
     "text": [
      "([22, 629, 333, 5, 287, 474, 83, 82, 688, 962, 85, 191, 390, 403, 312, 399, 1808, 22, 82, 141, 8, 838, 797, 895, 424, 59, 4029, 421, 2, 609, 6999, 3, 73, 170, 107, 311, 797, 403, 73, 240, 226, 403, 82, 312, 539, 103, 5282, 17, 8352, 358, 59, 4389, 3, 191, 2933, 333, 141, 17, 341, 93, 5, 2703, 37, 191, 459, 1206, 118, 107, 227, 226, 2670, 103], [111, 1163, 421, 3694, 494, 3087, 474, 59, 3038, 20, 3, 502, 425, 1283, 343, 22, 1441, 93, 550, 494, 3087, 474, 59, 3038, 865, 3, 502, 367, 155, 22, 4121, 48, 3552, 160, 1453, 5, 121, 357, 59, 72, 686, 2, 479, 22, 1630, 3, 341, 8, 59, 8296, 59, 672, 59, 4417, 59, 2655, 59, 1172, 59, 4243, 22, 72, 37, 2, 10025, 5, 3428, 1220, 320, 1195, 143094, 143094], [226, 1477, 100, 710, 411, 22, 4456, 5914, 5538, 2, 1865, 37, 19, 2199, 3, 5913, 396, 59, 967, 396, 123, 22, 3364, 5912, 2934, 1965, 3, 61, 5050, 10, 28, 2203, 23, 22, 2603, 37, 216, 609, 5911, 2132, 5910, 23, 22, 5909, 5908, 5907, 3, 17, 520, 5906, 37, 19, 4395, 650, 515, 5905, 3, 2888, 23, 22, 2649, 1344, 3, 191, 1454, 5904, 5903, 65, 143094, 143094, 143094, 143094], [226, 1477, 100, 710, 411, 22, 4456, 5914, 5538, 2, 1865, 37, 19, 2199, 3, 5913, 396, 59, 967, 396, 123, 22, 3364, 5912, 2934, 1965, 3, 61, 5050, 10, 28, 2203, 23, 22, 2603, 37, 216, 609, 5911, 2132, 5910, 23, 22, 5909, 5908, 5907, 3, 17, 520, 5906, 37, 19, 4395, 650, 515, 5905, 3, 2888, 23, 22, 2649, 1344, 3, 191, 1454, 5904, 5903, 65, 143094, 143094, 143094, 143094], [226, 1477, 100, 710, 411, 22, 4456, 5914, 5538, 2, 1865, 37, 19, 2199, 3, 5913, 396, 59, 967, 396, 123, 22, 3364, 5912, 2934, 1965, 3, 61, 5050, 10, 28, 2203, 23, 22, 2603, 37, 216, 609, 5911, 2132, 5910, 23, 22, 5909, 5908, 5907, 3, 17, 520, 5906, 37, 19, 4395, 650, 515, 5905, 3, 2888, 23, 22, 2649, 1344, 3, 191, 1454, 5904, 5903, 65, 143094, 143094, 143094, 143094])\n",
      "(72, 70, 68, 68, 68)\n"
     ]
    }
   ],
   "source": [
    "print(tst_src_p[:5])\n",
    "print(l_src[:5])"
   ]
  },
  {
   "cell_type": "markdown",
   "metadata": {},
   "source": [
    "# Training"
   ]
  },
  {
   "cell_type": "code",
   "execution_count": 10,
   "metadata": {},
   "outputs": [],
   "source": [
    "enc = seq2seq.Encoder(len(vocab), 20, 50, 1, 'cuda', vocab[pad])\n",
    "dec = seq2seq.Decoder(len(vocab), 20, 50, 1, 'cuda', vocab[pad],vocab[sos], vocab[eos])"
   ]
  },
  {
   "cell_type": "code",
   "execution_count": 11,
   "metadata": {},
   "outputs": [
    {
     "ename": "RuntimeError",
     "evalue": "cuda runtime error (30) : unknown error at /opt/conda/conda-bld/pytorch_1533672544752/work/aten/src/THC/THCGeneral.cpp:74",
     "output_type": "error",
     "traceback": [
      "\u001b[0;31m---------------------------------------------------------------------------\u001b[0m",
      "\u001b[0;31mRuntimeError\u001b[0m                              Traceback (most recent call last)",
      "\u001b[0;32m<ipython-input-11-6d0d1e36609a>\u001b[0m in \u001b[0;36m<module>\u001b[0;34m\u001b[0m\n\u001b[0;32m----> 1\u001b[0;31m \u001b[0menc\u001b[0m\u001b[0;34m.\u001b[0m\u001b[0mto\u001b[0m\u001b[0;34m(\u001b[0m\u001b[0;34m'cuda'\u001b[0m\u001b[0;34m)\u001b[0m\u001b[0;34m\u001b[0m\u001b[0;34m\u001b[0m\u001b[0m\n\u001b[0m\u001b[1;32m      2\u001b[0m \u001b[0mdec\u001b[0m\u001b[0;34m.\u001b[0m\u001b[0mto\u001b[0m\u001b[0;34m(\u001b[0m\u001b[0;34m'cuda'\u001b[0m\u001b[0;34m)\u001b[0m\u001b[0;34m\u001b[0m\u001b[0;34m\u001b[0m\u001b[0m\n\u001b[1;32m      3\u001b[0m \u001b[0mopt_enc\u001b[0m \u001b[0;34m=\u001b[0m \u001b[0mtorch\u001b[0m\u001b[0;34m.\u001b[0m\u001b[0moptim\u001b[0m\u001b[0;34m.\u001b[0m\u001b[0mSparseAdam\u001b[0m\u001b[0;34m(\u001b[0m\u001b[0menc\u001b[0m\u001b[0;34m.\u001b[0m\u001b[0mparameters\u001b[0m\u001b[0;34m(\u001b[0m\u001b[0;34m)\u001b[0m\u001b[0;34m)\u001b[0m\u001b[0;34m\u001b[0m\u001b[0;34m\u001b[0m\u001b[0m\n\u001b[1;32m      4\u001b[0m \u001b[0mopt_dec\u001b[0m \u001b[0;34m=\u001b[0m \u001b[0mtorch\u001b[0m\u001b[0;34m.\u001b[0m\u001b[0moptim\u001b[0m\u001b[0;34m.\u001b[0m\u001b[0mSparseAdam\u001b[0m\u001b[0;34m(\u001b[0m\u001b[0mdec\u001b[0m\u001b[0;34m.\u001b[0m\u001b[0mparameters\u001b[0m\u001b[0;34m(\u001b[0m\u001b[0;34m)\u001b[0m\u001b[0;34m)\u001b[0m\u001b[0;34m\u001b[0m\u001b[0;34m\u001b[0m\u001b[0m\n",
      "\u001b[0;32m~/anaconda3/envs/dl/lib/python3.6/site-packages/torch/nn/modules/module.py\u001b[0m in \u001b[0;36mto\u001b[0;34m(self, *args, **kwargs)\u001b[0m\n\u001b[1;32m    377\u001b[0m             \u001b[0;32mreturn\u001b[0m \u001b[0mt\u001b[0m\u001b[0;34m.\u001b[0m\u001b[0mto\u001b[0m\u001b[0;34m(\u001b[0m\u001b[0mdevice\u001b[0m\u001b[0;34m,\u001b[0m \u001b[0mdtype\u001b[0m \u001b[0;32mif\u001b[0m \u001b[0mt\u001b[0m\u001b[0;34m.\u001b[0m\u001b[0mis_floating_point\u001b[0m\u001b[0;34m(\u001b[0m\u001b[0;34m)\u001b[0m \u001b[0;32melse\u001b[0m \u001b[0;32mNone\u001b[0m\u001b[0;34m,\u001b[0m \u001b[0mnon_blocking\u001b[0m\u001b[0;34m)\u001b[0m\u001b[0;34m\u001b[0m\u001b[0;34m\u001b[0m\u001b[0m\n\u001b[1;32m    378\u001b[0m \u001b[0;34m\u001b[0m\u001b[0m\n\u001b[0;32m--> 379\u001b[0;31m         \u001b[0;32mreturn\u001b[0m \u001b[0mself\u001b[0m\u001b[0;34m.\u001b[0m\u001b[0m_apply\u001b[0m\u001b[0;34m(\u001b[0m\u001b[0mconvert\u001b[0m\u001b[0;34m)\u001b[0m\u001b[0;34m\u001b[0m\u001b[0;34m\u001b[0m\u001b[0m\n\u001b[0m\u001b[1;32m    380\u001b[0m \u001b[0;34m\u001b[0m\u001b[0m\n\u001b[1;32m    381\u001b[0m     \u001b[0;32mdef\u001b[0m \u001b[0mregister_backward_hook\u001b[0m\u001b[0;34m(\u001b[0m\u001b[0mself\u001b[0m\u001b[0;34m,\u001b[0m \u001b[0mhook\u001b[0m\u001b[0;34m)\u001b[0m\u001b[0;34m:\u001b[0m\u001b[0;34m\u001b[0m\u001b[0;34m\u001b[0m\u001b[0m\n",
      "\u001b[0;32m~/anaconda3/envs/dl/lib/python3.6/site-packages/torch/nn/modules/module.py\u001b[0m in \u001b[0;36m_apply\u001b[0;34m(self, fn)\u001b[0m\n\u001b[1;32m    183\u001b[0m     \u001b[0;32mdef\u001b[0m \u001b[0m_apply\u001b[0m\u001b[0;34m(\u001b[0m\u001b[0mself\u001b[0m\u001b[0;34m,\u001b[0m \u001b[0mfn\u001b[0m\u001b[0;34m)\u001b[0m\u001b[0;34m:\u001b[0m\u001b[0;34m\u001b[0m\u001b[0;34m\u001b[0m\u001b[0m\n\u001b[1;32m    184\u001b[0m         \u001b[0;32mfor\u001b[0m \u001b[0mmodule\u001b[0m \u001b[0;32min\u001b[0m \u001b[0mself\u001b[0m\u001b[0;34m.\u001b[0m\u001b[0mchildren\u001b[0m\u001b[0;34m(\u001b[0m\u001b[0;34m)\u001b[0m\u001b[0;34m:\u001b[0m\u001b[0;34m\u001b[0m\u001b[0;34m\u001b[0m\u001b[0m\n\u001b[0;32m--> 185\u001b[0;31m             \u001b[0mmodule\u001b[0m\u001b[0;34m.\u001b[0m\u001b[0m_apply\u001b[0m\u001b[0;34m(\u001b[0m\u001b[0mfn\u001b[0m\u001b[0;34m)\u001b[0m\u001b[0;34m\u001b[0m\u001b[0;34m\u001b[0m\u001b[0m\n\u001b[0m\u001b[1;32m    186\u001b[0m \u001b[0;34m\u001b[0m\u001b[0m\n\u001b[1;32m    187\u001b[0m         \u001b[0;32mfor\u001b[0m \u001b[0mparam\u001b[0m \u001b[0;32min\u001b[0m \u001b[0mself\u001b[0m\u001b[0;34m.\u001b[0m\u001b[0m_parameters\u001b[0m\u001b[0;34m.\u001b[0m\u001b[0mvalues\u001b[0m\u001b[0;34m(\u001b[0m\u001b[0;34m)\u001b[0m\u001b[0;34m:\u001b[0m\u001b[0;34m\u001b[0m\u001b[0;34m\u001b[0m\u001b[0m\n",
      "\u001b[0;32m~/anaconda3/envs/dl/lib/python3.6/site-packages/torch/nn/modules/module.py\u001b[0m in \u001b[0;36m_apply\u001b[0;34m(self, fn)\u001b[0m\n\u001b[1;32m    189\u001b[0m                 \u001b[0;31m# Tensors stored in modules are graph leaves, and we don't\u001b[0m\u001b[0;34m\u001b[0m\u001b[0;34m\u001b[0m\u001b[0;34m\u001b[0m\u001b[0m\n\u001b[1;32m    190\u001b[0m                 \u001b[0;31m# want to create copy nodes, so we have to unpack the data.\u001b[0m\u001b[0;34m\u001b[0m\u001b[0;34m\u001b[0m\u001b[0;34m\u001b[0m\u001b[0m\n\u001b[0;32m--> 191\u001b[0;31m                 \u001b[0mparam\u001b[0m\u001b[0;34m.\u001b[0m\u001b[0mdata\u001b[0m \u001b[0;34m=\u001b[0m \u001b[0mfn\u001b[0m\u001b[0;34m(\u001b[0m\u001b[0mparam\u001b[0m\u001b[0;34m.\u001b[0m\u001b[0mdata\u001b[0m\u001b[0;34m)\u001b[0m\u001b[0;34m\u001b[0m\u001b[0;34m\u001b[0m\u001b[0m\n\u001b[0m\u001b[1;32m    192\u001b[0m                 \u001b[0;32mif\u001b[0m \u001b[0mparam\u001b[0m\u001b[0;34m.\u001b[0m\u001b[0m_grad\u001b[0m \u001b[0;32mis\u001b[0m \u001b[0;32mnot\u001b[0m \u001b[0;32mNone\u001b[0m\u001b[0;34m:\u001b[0m\u001b[0;34m\u001b[0m\u001b[0;34m\u001b[0m\u001b[0m\n\u001b[1;32m    193\u001b[0m                     \u001b[0mparam\u001b[0m\u001b[0;34m.\u001b[0m\u001b[0m_grad\u001b[0m\u001b[0;34m.\u001b[0m\u001b[0mdata\u001b[0m \u001b[0;34m=\u001b[0m \u001b[0mfn\u001b[0m\u001b[0;34m(\u001b[0m\u001b[0mparam\u001b[0m\u001b[0;34m.\u001b[0m\u001b[0m_grad\u001b[0m\u001b[0;34m.\u001b[0m\u001b[0mdata\u001b[0m\u001b[0;34m)\u001b[0m\u001b[0;34m\u001b[0m\u001b[0;34m\u001b[0m\u001b[0m\n",
      "\u001b[0;32m~/anaconda3/envs/dl/lib/python3.6/site-packages/torch/nn/modules/module.py\u001b[0m in \u001b[0;36mconvert\u001b[0;34m(t)\u001b[0m\n\u001b[1;32m    375\u001b[0m \u001b[0;34m\u001b[0m\u001b[0m\n\u001b[1;32m    376\u001b[0m         \u001b[0;32mdef\u001b[0m \u001b[0mconvert\u001b[0m\u001b[0;34m(\u001b[0m\u001b[0mt\u001b[0m\u001b[0;34m)\u001b[0m\u001b[0;34m:\u001b[0m\u001b[0;34m\u001b[0m\u001b[0;34m\u001b[0m\u001b[0m\n\u001b[0;32m--> 377\u001b[0;31m             \u001b[0;32mreturn\u001b[0m \u001b[0mt\u001b[0m\u001b[0;34m.\u001b[0m\u001b[0mto\u001b[0m\u001b[0;34m(\u001b[0m\u001b[0mdevice\u001b[0m\u001b[0;34m,\u001b[0m \u001b[0mdtype\u001b[0m \u001b[0;32mif\u001b[0m \u001b[0mt\u001b[0m\u001b[0;34m.\u001b[0m\u001b[0mis_floating_point\u001b[0m\u001b[0;34m(\u001b[0m\u001b[0;34m)\u001b[0m \u001b[0;32melse\u001b[0m \u001b[0;32mNone\u001b[0m\u001b[0;34m,\u001b[0m \u001b[0mnon_blocking\u001b[0m\u001b[0;34m)\u001b[0m\u001b[0;34m\u001b[0m\u001b[0;34m\u001b[0m\u001b[0m\n\u001b[0m\u001b[1;32m    378\u001b[0m \u001b[0;34m\u001b[0m\u001b[0m\n\u001b[1;32m    379\u001b[0m         \u001b[0;32mreturn\u001b[0m \u001b[0mself\u001b[0m\u001b[0;34m.\u001b[0m\u001b[0m_apply\u001b[0m\u001b[0;34m(\u001b[0m\u001b[0mconvert\u001b[0m\u001b[0;34m)\u001b[0m\u001b[0;34m\u001b[0m\u001b[0;34m\u001b[0m\u001b[0m\n",
      "\u001b[0;31mRuntimeError\u001b[0m: cuda runtime error (30) : unknown error at /opt/conda/conda-bld/pytorch_1533672544752/work/aten/src/THC/THCGeneral.cpp:74"
     ]
    }
   ],
   "source": [
    "enc.to('cuda')\n",
    "dec.to('cuda')\n",
    "opt_enc = torch.optim.SparseAdam(enc.parameters())\n",
    "opt_dec = torch.optim.SparseAdam(dec.parameters())"
   ]
  },
  {
   "cell_type": "code",
   "execution_count": null,
   "metadata": {},
   "outputs": [],
   "source": [
    "#out, h_n = enc(tst_src_t[:4], torch.LongTensor(l_src[:4]))\n",
    "#output, h = dec(h_n, 50, batch_size=4)"
   ]
  },
  {
   "cell_type": "code",
   "execution_count": null,
   "metadata": {},
   "outputs": [],
   "source": [
    "#out"
   ]
  },
  {
   "cell_type": "code",
   "execution_count": null,
   "metadata": {
    "scrolled": true
   },
   "outputs": [],
   "source": [
    "'''\n",
    "s = []\n",
    "v_k = list(vocab.keys())\n",
    "v_v = list(vocab.values())\n",
    "for e in output[0]:\n",
    "    s.append(v_k[v_v.index(e)])\n",
    "print(s)"
   ]
  },
  {
   "cell_type": "code",
   "execution_count": null,
   "metadata": {},
   "outputs": [],
   "source": [
    "opt_dec.zero_grad()\n",
    "opt_enc.zero_grad()"
   ]
  },
  {
   "cell_type": "code",
   "execution_count": null,
   "metadata": {},
   "outputs": [],
   "source": [
    "lengths = torch.LongTensor(l_src[:4])\n",
    "out, h_n = enc(tst_src_t[:4], lengths)\n",
    "output = dec.teacher_force(tst_tgt_t[:4], h_n)"
   ]
  },
  {
   "cell_type": "code",
   "execution_count": null,
   "metadata": {},
   "outputs": [],
   "source": [
    "loss = 0\n",
    "for o, l, t in zip(output.transpose(0,1), l_tgt[:4], tst_tgt_t[:4]):\n",
    "    loss += criterion(o[:l], t[1:(l+1)])/(l*4)"
   ]
  },
  {
   "cell_type": "markdown",
   "metadata": {},
   "source": [
    "#Saving weights"
   ]
  },
  {
   "cell_type": "markdown",
   "metadata": {},
   "source": [
    "#Generating"
   ]
  },
  {
   "cell_type": "markdown",
   "metadata": {},
   "source": [
    "#Saving generated examples"
   ]
  }
 ],
 "metadata": {
  "kernelspec": {
   "display_name": "Python 3",
   "language": "python",
   "name": "python3"
  },
  "language_info": {
   "codemirror_mode": {
    "name": "ipython",
    "version": 3
   },
   "file_extension": ".py",
   "mimetype": "text/x-python",
   "name": "python",
   "nbconvert_exporter": "python",
   "pygments_lexer": "ipython3",
   "version": "3.6.7"
  }
 },
 "nbformat": 4,
 "nbformat_minor": 1
}
